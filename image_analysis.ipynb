{
 "cells": [
  {
   "cell_type": "markdown",
   "metadata": {
    "colab_type": "text",
    "id": "BdhHDSI1mnaD"
   },
   "source": [
    "# Biomedical Image Analysis Course on Data Camp \n",
    "\n",
    "\n",
    "1.   Exploration\n",
    "       * Load Images\n",
    "       * N-D data\n",
    "       * Subplots\n",
    "  <img src='https://cdn-images-1.medium.com/max/1600/1*1bNAG7ujkPbx64HWXKMoeg.png' align='right' width=\"500\" height=\"300\">     \n",
    "2.   Mask & Filters\n",
    "       * Intensity Distributions\n",
    "       * Convolutions\n",
    "       * Edge Detection\n",
    "\n",
    "3.   Measurement\n",
    "       * Labelling\n",
    "       * Multi-object measurement\n",
    "       * Morphology\n",
    "       \n",
    "4.   Image Comparisson\n",
    "       * Transformations\n",
    "       * Resampling\n",
    "       * Const functions\n",
    "       * Normalization\n",
    "\n",
    "\n",
    "### Loading Images\n",
    " \n",
    "\n",
    "*   imageio:read and save images\n",
    "*   Image objects are Numpy arrays\n",
    "*   Slice the array by specifying values along each availabel dimension\n",
    "\n"
   ]
  },
  {
   "cell_type": "code",
   "execution_count": 1,
   "metadata": {
    "colab": {},
    "colab_type": "code",
    "id": "fUzOnEg7l1Re"
   },
   "outputs": [],
   "source": [
    "import imageio\n",
    "im = imageio.imread('images/head_5.dcm')"
   ]
  },
  {
   "cell_type": "code",
   "execution_count": 2,
   "metadata": {},
   "outputs": [
    {
     "data": {
      "text/plain": [
       "imageio.core.util.Image"
      ]
     },
     "execution_count": 2,
     "metadata": {},
     "output_type": "execute_result"
    }
   ],
   "source": [
    "type(im)"
   ]
  },
  {
   "cell_type": "code",
   "execution_count": 3,
   "metadata": {},
   "outputs": [
    {
     "data": {
      "text/plain": [
       "Image([[-2048, -2048, -2048, ..., -2048, -2048, -2048],\n",
       "       [-2048, -2048, -2048, ..., -2048, -2048, -2048],\n",
       "       [-2048, -2048, -2048, ..., -2048, -2048, -2048],\n",
       "       ...,\n",
       "       [-2048, -2048, -2048, ..., -2048, -2048, -2048],\n",
       "       [-2048, -2048, -2048, ..., -2048, -2048, -2048],\n",
       "       [-2048, -2048, -2048, ..., -2048, -2048, -2048]], dtype=int16)"
      ]
     },
     "execution_count": 3,
     "metadata": {},
     "output_type": "execute_result"
    }
   ],
   "source": [
    "im"
   ]
  },
  {
   "cell_type": "code",
   "execution_count": 4,
   "metadata": {},
   "outputs": [
    {
     "data": {
      "text/plain": [
       "-2048"
      ]
     },
     "execution_count": 4,
     "metadata": {},
     "output_type": "execute_result"
    }
   ],
   "source": [
    "im[0, 0]"
   ]
  },
  {
   "cell_type": "code",
   "execution_count": 5,
   "metadata": {},
   "outputs": [
    {
     "data": {
      "text/plain": [
       "Image([[-2048, -2048],\n",
       "       [-2048, -2048]], dtype=int16)"
      ]
     },
     "execution_count": 5,
     "metadata": {},
     "output_type": "execute_result"
    }
   ],
   "source": [
    "im[0:2, 0:2]"
   ]
  },
  {
   "cell_type": "markdown",
   "metadata": {},
   "source": [
    "### Medadata\n",
    " * Medadata: the who, what, when, where and how of image acquisition.\n",
    " * Accessible in Image objects through the meta dictionary attribute\n",
    " "
   ]
  },
  {
   "cell_type": "code",
   "execution_count": 6,
   "metadata": {},
   "outputs": [
    {
     "data": {
      "text/plain": [
       "Dict([('TransferSyntaxUID', '1.2.840.10008.1.2.1'),\n",
       "      ('SOPClassUID', '1.2.840.10008.5.1.4.1.1.2'),\n",
       "      ('SOPInstanceUID',\n",
       "       '1.3.6.1.4.1.14519.5.2.1.3983.1600.130079027103288237211121399038'),\n",
       "      ('Modality', 'CT'),\n",
       "      ('SeriesDescription', 'Axial'),\n",
       "      ('PatientName', '0b8afe447b5f1a2c405f41cf2fb1198e'),\n",
       "      ('PatientID', '0b8afe447b5f1a2c405f41cf2fb1198e'),\n",
       "      ('PatientBirthDate', '19000101'),\n",
       "      ('StudyInstanceUID',\n",
       "       '2.25.89561893570483753331330741085866369150969669334491652729137'),\n",
       "      ('SeriesInstanceUID',\n",
       "       '2.25.11036428774731073064400491217100263734343718144389324827816'),\n",
       "      ('SeriesNumber', 2),\n",
       "      ('AcquisitionNumber', 1),\n",
       "      ('InstanceNumber', 15),\n",
       "      ('ImagePositionPatient', (-174.3, -156.7, -18.75)),\n",
       "      ('ImageOrientationPatient', (1.0, 0.0, 0.0, 0.0, 1.0, 0.0)),\n",
       "      ('SamplesPerPixel', 1),\n",
       "      ('Rows', 512),\n",
       "      ('Columns', 512),\n",
       "      ('PixelSpacing', (0.703125, 0.703125)),\n",
       "      ('BitsAllocated', 16),\n",
       "      ('BitsStored', 16),\n",
       "      ('HighBit', 15),\n",
       "      ('PixelRepresentation', 1),\n",
       "      ('RescaleIntercept', -1024.0),\n",
       "      ('RescaleSlope', 1.0),\n",
       "      ('PixelData',\n",
       "       b'Data converted to numpy array, raw data removed to preserve memory'),\n",
       "      ('shape', (512, 512)),\n",
       "      ('sampling', (0.703125, 0.703125))])"
      ]
     },
     "execution_count": 6,
     "metadata": {},
     "output_type": "execute_result"
    }
   ],
   "source": [
    "im.meta"
   ]
  },
  {
   "cell_type": "code",
   "execution_count": 7,
   "metadata": {},
   "outputs": [
    {
     "data": {
      "text/plain": [
       "'CT'"
      ]
     },
     "execution_count": 7,
     "metadata": {},
     "output_type": "execute_result"
    }
   ],
   "source": [
    "im.meta['Modality']"
   ]
  },
  {
   "cell_type": "code",
   "execution_count": 8,
   "metadata": {},
   "outputs": [
    {
     "data": {
      "text/plain": [
       "odict_keys(['TransferSyntaxUID', 'SOPClassUID', 'SOPInstanceUID', 'Modality', 'SeriesDescription', 'PatientName', 'PatientID', 'PatientBirthDate', 'StudyInstanceUID', 'SeriesInstanceUID', 'SeriesNumber', 'AcquisitionNumber', 'InstanceNumber', 'ImagePositionPatient', 'ImageOrientationPatient', 'SamplesPerPixel', 'Rows', 'Columns', 'PixelSpacing', 'BitsAllocated', 'BitsStored', 'HighBit', 'PixelRepresentation', 'RescaleIntercept', 'RescaleSlope', 'PixelData', 'shape', 'sampling'])"
      ]
     },
     "execution_count": 8,
     "metadata": {},
     "output_type": "execute_result"
    }
   ],
   "source": [
    "im.meta.keys()"
   ]
  },
  {
   "cell_type": "markdown",
   "metadata": {},
   "source": [
    "### Plotting images\n",
    "* Matplotlib's imshow() function displays 2D image data\n",
    "* Many colormaps available but often shown in grayscale (cmap='gray')\n",
    "* Axis ticks and labels are often ***not*** useful for images"
   ]
  },
  {
   "cell_type": "code",
   "execution_count": 9,
   "metadata": {},
   "outputs": [
    {
     "data": {
      "text/plain": [
       "(-0.5, 511.5, 511.5, -0.5)"
      ]
     },
     "execution_count": 9,
     "metadata": {},
     "output_type": "execute_result"
    },
    {
     "data": {
      "image/png": "[encoded data removed]",
      "text/plain": [
       "<Figure size 432x288 with 1 Axes>"
      ]
     },
     "metadata": {},
     "output_type": "display_data"
    }
   ],
   "source": [
    "import matplotlib.pyplot as plt\n",
    "%matplotlib inline\n",
    "plt.imshow(im, cmap='gray')\n",
    "plt.axis('off')\n"
   ]
  },
  {
   "cell_type": "markdown",
   "metadata": {},
   "source": [
    "## Exercise\n",
    "\n",
    "### Load images\n",
    "\n",
    "In this chapter, we'll work with sections of a [computed tomography](https://en.wikipedia.org/wiki/CT_scan) [(CT)](https://en.wikipedia.org/wiki/CT_scan) scan from [The Cancer Imaging Archive](http://www.cancerimagingarchive.net/about-the-cancer-imaging-archive-tcia/). CT uses a rotating X-ray tube to create a 3D image of the target area.\n",
    "\n",
    "The actual content of the image depends on the instrument used: photographs measure visible light, x-ray and CT measure radiation absorbance, and MRI scanners measure magnetic fields.\n",
    "\n",
    "To warm up, use the imageio package to load a single DICOM image from the scan volume and check out a few of its attributes.\n",
    "\n",
    "### Metadata\n",
    "\n",
    "ImageIO reads in data as Image objects. These are standard NumPy arrays with a dictionary of metadata.\n",
    "\n",
    "Metadata can be quite rich in medical images and can include:\n",
    "\n",
    "* ***Patient demographics:*** name, age, sex, clinical information\n",
    "* ***Acquisition information:*** image shape, sampling rates, data type, [modality](https://en.wikipedia.org/wiki/Medical_imaging#Imaging_modalities) (such as X-Ray, CT or MRI)\n",
    "\n",
    "Start this exercise by reading in the chest image and listing the available fields in the meta dictionary. \n",
    "\n",
    "### Plot images\n",
    "\n",
    "Perhaps the most critical principle of image analysis is: look at your images!\n",
    "\n",
    "Matplotlib's imshow() function gives you a simple way to do this. Knowing a few simple arguments will help:\n",
    "\n",
    "* _cmap_ controls the color mappings for each value. The \"gray\" colormap is common, but many others are available.\n",
    "* *vmin* and *vmax* control the color contrast between values. Changing these can reduce the influence of extreme values.\n",
    "* *plt.axis('off')* removes axis and tick labels from the image.\n",
    "\n",
    "For this exercise, plot the CT scan and investigate the effect of a few different parameters."
   ]
  },
  {
   "cell_type": "code",
   "execution_count": 12,
   "metadata": {},
   "outputs": [
    {
     "name": "stdout",
     "output_type": "stream",
     "text": [
      "Image type: <class 'imageio.core.util.Image'>\n",
      "Shape of image array: (512, 512)\n"
     ]
    }
   ],
   "source": [
    "# import ImageIO\n",
    "import imageio\n",
    "\n",
    "# load dicom image\n",
    "image = imageio.imread('images/head_3.dcm')\n",
    "\n",
    "# print image attributes\n",
    "print('Image type:', type(image))\n",
    "print('Shape of image array:', image.shape)\n",
    "print((image.meta).keys())\n"
   ]
  },
  {
   "cell_type": "markdown",
   "metadata": {},
   "source": [
    "# N-dimensional images"
   ]
  },
  {
   "cell_type": "code",
   "execution_count": 14,
   "metadata": {},
   "outputs": [],
   "source": [
    "import numpy as np\n",
    "im1 = imageio.imread('images/head_1.dcm')\n",
    "im2 = imageio.imread('images/head_2.dcm')\n",
    "im3 = imageio.imread('images/head_3.dcm')\n",
    "im4 = imageio.imread('images/head_4.dcm')\n",
    "im5 = imageio.imread('images/head_5.dcm')\n"
   ]
  },
  {
   "cell_type": "code",
   "execution_count": 15,
   "metadata": {},
   "outputs": [
    {
     "data": {
      "text/plain": [
       "(512, 512)"
      ]
     },
     "execution_count": 15,
     "metadata": {},
     "output_type": "execute_result"
    }
   ],
   "source": [
    "im1.shape"
   ]
  },
  {
   "cell_type": "code",
   "execution_count": 16,
   "metadata": {},
   "outputs": [],
   "source": [
    "vol = np.stack([im1, im2, im3, im4, im5])"
   ]
  },
  {
   "cell_type": "code",
   "execution_count": 17,
   "metadata": {},
   "outputs": [
    {
     "data": {
      "text/plain": [
       "(5, 512, 512)"
      ]
     },
     "execution_count": 17,
     "metadata": {},
     "output_type": "execute_result"
    }
   ],
   "source": [
    "vol.shape"
   ]
  },
  {
   "cell_type": "markdown",
   "metadata": {},
   "source": [
    "### Loading volumes directly\n",
    "\n",
    "imageio.volread():\n",
    "* read multi-dimensional data directly\n",
    "* assemble a volume from multiple images"
   ]
  },
  {
   "cell_type": "code",
   "execution_count": null,
   "metadata": {},
   "outputs": [],
   "source": [
    "import os"
   ]
  }
 ],
 "metadata": {
  "colab": {
   "name": "Untitled",
   "provenance": [],
   "version": "0.3.2"
  },
  "kernelspec": {
   "display_name": "Python 3",
   "language": "python",
   "name": "python3"
  },
  "language_info": {
   "codemirror_mode": {
    "name": "ipython",
    "version": 3
   },
   "file_extension": ".py",
   "mimetype": "text/x-python",
   "name": "python",
   "nbconvert_exporter": "python",
   "pygments_lexer": "ipython3",
   "version": "3.6.5"
  }
 },
 "nbformat": 4,
 "nbformat_minor": 1
}
